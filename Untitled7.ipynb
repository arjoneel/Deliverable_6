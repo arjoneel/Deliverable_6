{
  "nbformat": 4,
  "nbformat_minor": 0,
  "metadata": {
    "colab": {
      "provenance": [],
      "collapsed_sections": []
    },
    "kernelspec": {
      "name": "python3",
      "display_name": "Python 3"
    },
    "language_info": {
      "name": "python"
    }
  },
  "cells": [
    {
      "cell_type": "code",
      "execution_count": null,
      "metadata": {
        "id": "3Et8XbqDdIzg"
      },
      "outputs": [],
      "source": [
        "import numpy\n",
        "import pandas as pd\n",
        "\n",
        "#ask user to enter an integer number Greater then 0\n",
        "n = int(input(\"Enter an integer number number Greater then 0: \"))\n",
        "#check if the number is number Greater then 0\n",
        "while  n <= 0:\n",
        "    print(\"The number is not number Greater then 0\")\n",
        "    n = int(input(\"Enter an integer number number Greater then 0: \"))\n",
        "\n",
        "#n is the length of array\n",
        "\n",
        "def EVEN_NUMBERS(n):\n",
        "    EVEN = []\n",
        "    for i in range(0,n*2):\n",
        "            if i % 2 == 0:\n",
        "                EVEN.append(i)\n",
        "    return EVEN\n",
        "\n",
        "\n",
        "\n",
        "def ODD_NUMBERS(n):\n",
        "    ODD = []\n",
        "    for i in range(0,n*2):\n",
        "        if i % 2 == 1:\n",
        "            ODD.append(i)\n",
        "    return ODD\n",
        "\n",
        "\n",
        "\n",
        "def fibonacci_nums(n):\n",
        "  if n <= 0:\n",
        "    return [0]\n",
        "  sequence = [0, 1]\n",
        "  while len(sequence) <= n-1:\n",
        "    next_value = sequence[len(sequence) - 1] + sequence[len(sequence) - 2]\n",
        "    sequence.append(next_value)\n",
        "  return sequence\n",
        "\n",
        "\n",
        "\n",
        "\n",
        "df = pd.DataFrame({\"Even\":EVEN_NUMBERS(n), \"ODD\":ODD_NUMBERS(n), \"Fibonacci\":fibonacci_nums(n)})\n",
        "df"
      ]
    }
  ]
}